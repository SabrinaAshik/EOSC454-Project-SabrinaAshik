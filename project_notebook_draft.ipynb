{
 "cells": [
  {
   "cell_type": "code",
   "execution_count": 12,
   "metadata": {},
   "outputs": [],
   "source": [
    "import numpy as np\n",
    "import matplotlib.pyplot as plt\n",
    "import ipywidgets \n",
    "\n",
    "import time\n",
    "import discretize\n",
    "\n",
    "from SimPEG import (\n",
    "    maps,\n",
    "    utils,\n",
    "    survey,\n",
    "    data,\n",
    "    data_misfit,\n",
    "    directives,\n",
    "    optimization,\n",
    "    regularization,\n",
    "    inverse_problem,\n",
    "    inversion,\n",
    ")"
   ]
  }
 ],
 "metadata": {
  "kernelspec": {
   "display_name": "Python 3",
   "language": "python",
   "name": "python3"
  },
  "language_info": {
   "codemirror_mode": {
    "name": "ipython",
    "version": 3
   },
   "file_extension": ".py",
   "mimetype": "text/x-python",
   "name": "python",
   "nbconvert_exporter": "python",
   "pygments_lexer": "ipython3",
   "version": "3.11.8"
  }
 },
 "nbformat": 4,
 "nbformat_minor": 2
}
